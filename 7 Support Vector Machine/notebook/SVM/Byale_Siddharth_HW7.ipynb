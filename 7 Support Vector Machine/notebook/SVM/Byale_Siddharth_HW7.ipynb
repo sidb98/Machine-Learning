{
 "cells": [
  {
   "cell_type": "markdown",
   "metadata": {},
   "source": [
    "Name: Siddharth Byale\n",
    "\n",
    "Github username : sidb98\n",
    "\n",
    "USC ID : 5284615575\n",
    "\n",
    "Late Days Used: 2 \n"
   ]
  },
  {
   "cell_type": "code",
   "execution_count": 10,
   "metadata": {},
   "outputs": [],
   "source": [
    "import warnings\n",
    "warnings.filterwarnings('ignore')\n",
    "import numpy as np\n",
    "import pandas as pd\n",
    "import matplotlib.pyplot as plt\n",
    "import seaborn as sns"
   ]
  },
  {
   "cell_type": "markdown",
   "metadata": {},
   "source": [
    "## 1) Multi-class and Multi-Label Classification Using Support Vector Machines"
   ]
  },
  {
   "cell_type": "markdown",
   "metadata": {},
   "source": [
    "a) Choose 70% of the data randomly as the training set."
   ]
  },
  {
   "cell_type": "code",
   "execution_count": 11,
   "metadata": {},
   "outputs": [
    {
     "data": {
      "text/html": [
       "<div>\n",
       "<style scoped>\n",
       "    .dataframe tbody tr th:only-of-type {\n",
       "        vertical-align: middle;\n",
       "    }\n",
       "\n",
       "    .dataframe tbody tr th {\n",
       "        vertical-align: top;\n",
       "    }\n",
       "\n",
       "    .dataframe thead th {\n",
       "        text-align: right;\n",
       "    }\n",
       "</style>\n",
       "<table border=\"1\" class=\"dataframe\">\n",
       "  <thead>\n",
       "    <tr style=\"text-align: right;\">\n",
       "      <th></th>\n",
       "      <th>MFCCs_ 1</th>\n",
       "      <th>MFCCs_ 2</th>\n",
       "      <th>MFCCs_ 3</th>\n",
       "      <th>MFCCs_ 4</th>\n",
       "      <th>MFCCs_ 5</th>\n",
       "      <th>MFCCs_ 6</th>\n",
       "      <th>MFCCs_ 7</th>\n",
       "      <th>MFCCs_ 8</th>\n",
       "      <th>MFCCs_ 9</th>\n",
       "      <th>MFCCs_10</th>\n",
       "      <th>...</th>\n",
       "      <th>MFCCs_17</th>\n",
       "      <th>MFCCs_18</th>\n",
       "      <th>MFCCs_19</th>\n",
       "      <th>MFCCs_20</th>\n",
       "      <th>MFCCs_21</th>\n",
       "      <th>MFCCs_22</th>\n",
       "      <th>Family</th>\n",
       "      <th>Genus</th>\n",
       "      <th>Species</th>\n",
       "      <th>RecordID</th>\n",
       "    </tr>\n",
       "  </thead>\n",
       "  <tbody>\n",
       "    <tr>\n",
       "      <th>0</th>\n",
       "      <td>1.0</td>\n",
       "      <td>0.152936</td>\n",
       "      <td>-0.105586</td>\n",
       "      <td>0.200722</td>\n",
       "      <td>0.317201</td>\n",
       "      <td>0.260764</td>\n",
       "      <td>0.100945</td>\n",
       "      <td>-0.150063</td>\n",
       "      <td>-0.171128</td>\n",
       "      <td>0.124676</td>\n",
       "      <td>...</td>\n",
       "      <td>-0.108351</td>\n",
       "      <td>-0.077623</td>\n",
       "      <td>-0.009568</td>\n",
       "      <td>0.057684</td>\n",
       "      <td>0.118680</td>\n",
       "      <td>0.014038</td>\n",
       "      <td>Leptodactylidae</td>\n",
       "      <td>Adenomera</td>\n",
       "      <td>AdenomeraAndre</td>\n",
       "      <td>1</td>\n",
       "    </tr>\n",
       "    <tr>\n",
       "      <th>1</th>\n",
       "      <td>1.0</td>\n",
       "      <td>0.171534</td>\n",
       "      <td>-0.098975</td>\n",
       "      <td>0.268425</td>\n",
       "      <td>0.338672</td>\n",
       "      <td>0.268353</td>\n",
       "      <td>0.060835</td>\n",
       "      <td>-0.222475</td>\n",
       "      <td>-0.207693</td>\n",
       "      <td>0.170883</td>\n",
       "      <td>...</td>\n",
       "      <td>-0.090974</td>\n",
       "      <td>-0.056510</td>\n",
       "      <td>-0.035303</td>\n",
       "      <td>0.020140</td>\n",
       "      <td>0.082263</td>\n",
       "      <td>0.029056</td>\n",
       "      <td>Leptodactylidae</td>\n",
       "      <td>Adenomera</td>\n",
       "      <td>AdenomeraAndre</td>\n",
       "      <td>1</td>\n",
       "    </tr>\n",
       "    <tr>\n",
       "      <th>2</th>\n",
       "      <td>1.0</td>\n",
       "      <td>0.152317</td>\n",
       "      <td>-0.082973</td>\n",
       "      <td>0.287128</td>\n",
       "      <td>0.276014</td>\n",
       "      <td>0.189867</td>\n",
       "      <td>0.008714</td>\n",
       "      <td>-0.242234</td>\n",
       "      <td>-0.219153</td>\n",
       "      <td>0.232538</td>\n",
       "      <td>...</td>\n",
       "      <td>-0.050691</td>\n",
       "      <td>-0.023590</td>\n",
       "      <td>-0.066722</td>\n",
       "      <td>-0.025083</td>\n",
       "      <td>0.099108</td>\n",
       "      <td>0.077162</td>\n",
       "      <td>Leptodactylidae</td>\n",
       "      <td>Adenomera</td>\n",
       "      <td>AdenomeraAndre</td>\n",
       "      <td>1</td>\n",
       "    </tr>\n",
       "    <tr>\n",
       "      <th>3</th>\n",
       "      <td>1.0</td>\n",
       "      <td>0.224392</td>\n",
       "      <td>0.118985</td>\n",
       "      <td>0.329432</td>\n",
       "      <td>0.372088</td>\n",
       "      <td>0.361005</td>\n",
       "      <td>0.015501</td>\n",
       "      <td>-0.194347</td>\n",
       "      <td>-0.098181</td>\n",
       "      <td>0.270375</td>\n",
       "      <td>...</td>\n",
       "      <td>-0.136009</td>\n",
       "      <td>-0.177037</td>\n",
       "      <td>-0.130498</td>\n",
       "      <td>-0.054766</td>\n",
       "      <td>-0.018691</td>\n",
       "      <td>0.023954</td>\n",
       "      <td>Leptodactylidae</td>\n",
       "      <td>Adenomera</td>\n",
       "      <td>AdenomeraAndre</td>\n",
       "      <td>1</td>\n",
       "    </tr>\n",
       "    <tr>\n",
       "      <th>4</th>\n",
       "      <td>1.0</td>\n",
       "      <td>0.087817</td>\n",
       "      <td>-0.068345</td>\n",
       "      <td>0.306967</td>\n",
       "      <td>0.330923</td>\n",
       "      <td>0.249144</td>\n",
       "      <td>0.006884</td>\n",
       "      <td>-0.265423</td>\n",
       "      <td>-0.172700</td>\n",
       "      <td>0.266434</td>\n",
       "      <td>...</td>\n",
       "      <td>-0.048885</td>\n",
       "      <td>-0.053074</td>\n",
       "      <td>-0.088550</td>\n",
       "      <td>-0.031346</td>\n",
       "      <td>0.108610</td>\n",
       "      <td>0.079244</td>\n",
       "      <td>Leptodactylidae</td>\n",
       "      <td>Adenomera</td>\n",
       "      <td>AdenomeraAndre</td>\n",
       "      <td>1</td>\n",
       "    </tr>\n",
       "    <tr>\n",
       "      <th>...</th>\n",
       "      <td>...</td>\n",
       "      <td>...</td>\n",
       "      <td>...</td>\n",
       "      <td>...</td>\n",
       "      <td>...</td>\n",
       "      <td>...</td>\n",
       "      <td>...</td>\n",
       "      <td>...</td>\n",
       "      <td>...</td>\n",
       "      <td>...</td>\n",
       "      <td>...</td>\n",
       "      <td>...</td>\n",
       "      <td>...</td>\n",
       "      <td>...</td>\n",
       "      <td>...</td>\n",
       "      <td>...</td>\n",
       "      <td>...</td>\n",
       "      <td>...</td>\n",
       "      <td>...</td>\n",
       "      <td>...</td>\n",
       "      <td>...</td>\n",
       "    </tr>\n",
       "    <tr>\n",
       "      <th>7190</th>\n",
       "      <td>1.0</td>\n",
       "      <td>-0.554504</td>\n",
       "      <td>-0.337717</td>\n",
       "      <td>0.035533</td>\n",
       "      <td>0.034511</td>\n",
       "      <td>0.443451</td>\n",
       "      <td>0.093889</td>\n",
       "      <td>-0.100753</td>\n",
       "      <td>0.037087</td>\n",
       "      <td>0.081075</td>\n",
       "      <td>...</td>\n",
       "      <td>0.069430</td>\n",
       "      <td>0.071001</td>\n",
       "      <td>0.021591</td>\n",
       "      <td>0.052449</td>\n",
       "      <td>-0.021860</td>\n",
       "      <td>-0.079860</td>\n",
       "      <td>Hylidae</td>\n",
       "      <td>Scinax</td>\n",
       "      <td>ScinaxRuber</td>\n",
       "      <td>60</td>\n",
       "    </tr>\n",
       "    <tr>\n",
       "      <th>7191</th>\n",
       "      <td>1.0</td>\n",
       "      <td>-0.517273</td>\n",
       "      <td>-0.370574</td>\n",
       "      <td>0.030673</td>\n",
       "      <td>0.068097</td>\n",
       "      <td>0.402890</td>\n",
       "      <td>0.096628</td>\n",
       "      <td>-0.116460</td>\n",
       "      <td>0.063727</td>\n",
       "      <td>0.089034</td>\n",
       "      <td>...</td>\n",
       "      <td>0.061127</td>\n",
       "      <td>0.068978</td>\n",
       "      <td>0.017745</td>\n",
       "      <td>0.046461</td>\n",
       "      <td>-0.015418</td>\n",
       "      <td>-0.101892</td>\n",
       "      <td>Hylidae</td>\n",
       "      <td>Scinax</td>\n",
       "      <td>ScinaxRuber</td>\n",
       "      <td>60</td>\n",
       "    </tr>\n",
       "    <tr>\n",
       "      <th>7192</th>\n",
       "      <td>1.0</td>\n",
       "      <td>-0.582557</td>\n",
       "      <td>-0.343237</td>\n",
       "      <td>0.029468</td>\n",
       "      <td>0.064179</td>\n",
       "      <td>0.385596</td>\n",
       "      <td>0.114905</td>\n",
       "      <td>-0.103317</td>\n",
       "      <td>0.070370</td>\n",
       "      <td>0.081317</td>\n",
       "      <td>...</td>\n",
       "      <td>0.082474</td>\n",
       "      <td>0.077771</td>\n",
       "      <td>-0.009688</td>\n",
       "      <td>0.027834</td>\n",
       "      <td>-0.000531</td>\n",
       "      <td>-0.080425</td>\n",
       "      <td>Hylidae</td>\n",
       "      <td>Scinax</td>\n",
       "      <td>ScinaxRuber</td>\n",
       "      <td>60</td>\n",
       "    </tr>\n",
       "    <tr>\n",
       "      <th>7193</th>\n",
       "      <td>1.0</td>\n",
       "      <td>-0.519497</td>\n",
       "      <td>-0.307553</td>\n",
       "      <td>-0.004922</td>\n",
       "      <td>0.072865</td>\n",
       "      <td>0.377131</td>\n",
       "      <td>0.086866</td>\n",
       "      <td>-0.115799</td>\n",
       "      <td>0.056979</td>\n",
       "      <td>0.089316</td>\n",
       "      <td>...</td>\n",
       "      <td>0.051796</td>\n",
       "      <td>0.069073</td>\n",
       "      <td>0.017963</td>\n",
       "      <td>0.041803</td>\n",
       "      <td>-0.027911</td>\n",
       "      <td>-0.096895</td>\n",
       "      <td>Hylidae</td>\n",
       "      <td>Scinax</td>\n",
       "      <td>ScinaxRuber</td>\n",
       "      <td>60</td>\n",
       "    </tr>\n",
       "    <tr>\n",
       "      <th>7194</th>\n",
       "      <td>1.0</td>\n",
       "      <td>-0.508833</td>\n",
       "      <td>-0.324106</td>\n",
       "      <td>0.062068</td>\n",
       "      <td>0.078211</td>\n",
       "      <td>0.397188</td>\n",
       "      <td>0.094596</td>\n",
       "      <td>-0.117672</td>\n",
       "      <td>0.058874</td>\n",
       "      <td>0.076180</td>\n",
       "      <td>...</td>\n",
       "      <td>0.061455</td>\n",
       "      <td>0.072983</td>\n",
       "      <td>-0.003980</td>\n",
       "      <td>0.031560</td>\n",
       "      <td>-0.029355</td>\n",
       "      <td>-0.087910</td>\n",
       "      <td>Hylidae</td>\n",
       "      <td>Scinax</td>\n",
       "      <td>ScinaxRuber</td>\n",
       "      <td>60</td>\n",
       "    </tr>\n",
       "  </tbody>\n",
       "</table>\n",
       "<p>7195 rows × 26 columns</p>\n",
       "</div>"
      ],
      "text/plain": [
       "      MFCCs_ 1  MFCCs_ 2  MFCCs_ 3  MFCCs_ 4  MFCCs_ 5  MFCCs_ 6  MFCCs_ 7  \\\n",
       "0          1.0  0.152936 -0.105586  0.200722  0.317201  0.260764  0.100945   \n",
       "1          1.0  0.171534 -0.098975  0.268425  0.338672  0.268353  0.060835   \n",
       "2          1.0  0.152317 -0.082973  0.287128  0.276014  0.189867  0.008714   \n",
       "3          1.0  0.224392  0.118985  0.329432  0.372088  0.361005  0.015501   \n",
       "4          1.0  0.087817 -0.068345  0.306967  0.330923  0.249144  0.006884   \n",
       "...        ...       ...       ...       ...       ...       ...       ...   \n",
       "7190       1.0 -0.554504 -0.337717  0.035533  0.034511  0.443451  0.093889   \n",
       "7191       1.0 -0.517273 -0.370574  0.030673  0.068097  0.402890  0.096628   \n",
       "7192       1.0 -0.582557 -0.343237  0.029468  0.064179  0.385596  0.114905   \n",
       "7193       1.0 -0.519497 -0.307553 -0.004922  0.072865  0.377131  0.086866   \n",
       "7194       1.0 -0.508833 -0.324106  0.062068  0.078211  0.397188  0.094596   \n",
       "\n",
       "      MFCCs_ 8  MFCCs_ 9  MFCCs_10  ...  MFCCs_17  MFCCs_18  MFCCs_19  \\\n",
       "0    -0.150063 -0.171128  0.124676  ... -0.108351 -0.077623 -0.009568   \n",
       "1    -0.222475 -0.207693  0.170883  ... -0.090974 -0.056510 -0.035303   \n",
       "2    -0.242234 -0.219153  0.232538  ... -0.050691 -0.023590 -0.066722   \n",
       "3    -0.194347 -0.098181  0.270375  ... -0.136009 -0.177037 -0.130498   \n",
       "4    -0.265423 -0.172700  0.266434  ... -0.048885 -0.053074 -0.088550   \n",
       "...        ...       ...       ...  ...       ...       ...       ...   \n",
       "7190 -0.100753  0.037087  0.081075  ...  0.069430  0.071001  0.021591   \n",
       "7191 -0.116460  0.063727  0.089034  ...  0.061127  0.068978  0.017745   \n",
       "7192 -0.103317  0.070370  0.081317  ...  0.082474  0.077771 -0.009688   \n",
       "7193 -0.115799  0.056979  0.089316  ...  0.051796  0.069073  0.017963   \n",
       "7194 -0.117672  0.058874  0.076180  ...  0.061455  0.072983 -0.003980   \n",
       "\n",
       "      MFCCs_20  MFCCs_21  MFCCs_22           Family      Genus  \\\n",
       "0     0.057684  0.118680  0.014038  Leptodactylidae  Adenomera   \n",
       "1     0.020140  0.082263  0.029056  Leptodactylidae  Adenomera   \n",
       "2    -0.025083  0.099108  0.077162  Leptodactylidae  Adenomera   \n",
       "3    -0.054766 -0.018691  0.023954  Leptodactylidae  Adenomera   \n",
       "4    -0.031346  0.108610  0.079244  Leptodactylidae  Adenomera   \n",
       "...        ...       ...       ...              ...        ...   \n",
       "7190  0.052449 -0.021860 -0.079860          Hylidae     Scinax   \n",
       "7191  0.046461 -0.015418 -0.101892          Hylidae     Scinax   \n",
       "7192  0.027834 -0.000531 -0.080425          Hylidae     Scinax   \n",
       "7193  0.041803 -0.027911 -0.096895          Hylidae     Scinax   \n",
       "7194  0.031560 -0.029355 -0.087910          Hylidae     Scinax   \n",
       "\n",
       "             Species  RecordID  \n",
       "0     AdenomeraAndre         1  \n",
       "1     AdenomeraAndre         1  \n",
       "2     AdenomeraAndre         1  \n",
       "3     AdenomeraAndre         1  \n",
       "4     AdenomeraAndre         1  \n",
       "...              ...       ...  \n",
       "7190     ScinaxRuber        60  \n",
       "7191     ScinaxRuber        60  \n",
       "7192     ScinaxRuber        60  \n",
       "7193     ScinaxRuber        60  \n",
       "7194     ScinaxRuber        60  \n",
       "\n",
       "[7195 rows x 26 columns]"
      ]
     },
     "execution_count": 11,
     "metadata": {},
     "output_type": "execute_result"
    }
   ],
   "source": [
    "df = pd.read_csv('../../data/Anuran Calls (MFCCs)/Frogs_MFCCs.csv')\n",
    "df"
   ]
  },
  {
   "cell_type": "code",
   "execution_count": 12,
   "metadata": {},
   "outputs": [],
   "source": [
    "from sklearn.model_selection import train_test_split\n",
    "X, y = df.iloc[:,:22], df.iloc[:,22:25]\n",
    "X_train, X_test, y_train, y_test = train_test_split(X, y, test_size=0.3, random_state=42)"
   ]
  },
  {
   "cell_type": "code",
   "execution_count": 13,
   "metadata": {},
   "outputs": [
    {
     "data": {
      "text/plain": [
       "Leptodactylidae    4420\n",
       "Hylidae            2165\n",
       "Dendrobatidae       542\n",
       "Bufonidae            68\n",
       "Name: Family, dtype: int64"
      ]
     },
     "execution_count": 13,
     "metadata": {},
     "output_type": "execute_result"
    }
   ],
   "source": [
    "y[\"Family\"].value_counts()"
   ]
  },
  {
   "cell_type": "code",
   "execution_count": 14,
   "metadata": {},
   "outputs": [
    {
     "data": {
      "text/plain": [
       "Adenomera        4150\n",
       "Hypsiboas        1593\n",
       "Ameerega          542\n",
       "Dendropsophus     310\n",
       "Leptodactylus     270\n",
       "Scinax            148\n",
       "Osteocephalus     114\n",
       "Rhinella           68\n",
       "Name: Genus, dtype: int64"
      ]
     },
     "execution_count": 14,
     "metadata": {},
     "output_type": "execute_result"
    }
   ],
   "source": [
    "y[\"Genus\"].value_counts()"
   ]
  },
  {
   "cell_type": "code",
   "execution_count": 15,
   "metadata": {},
   "outputs": [
    {
     "data": {
      "text/plain": [
       "AdenomeraHylaedactylus    3478\n",
       "HypsiboasCordobae         1121\n",
       "AdenomeraAndre             672\n",
       "Ameeregatrivittata         542\n",
       "HypsiboasCinerascens       472\n",
       "HylaMinuta                 310\n",
       "LeptodactylusFuscus        270\n",
       "ScinaxRuber                148\n",
       "OsteocephalusOophagus      114\n",
       "Rhinellagranulosa           68\n",
       "Name: Species, dtype: int64"
      ]
     },
     "execution_count": 15,
     "metadata": {},
     "output_type": "execute_result"
    }
   ],
   "source": [
    "y[\"Species\"].value_counts()"
   ]
  },
  {
   "cell_type": "markdown",
   "metadata": {},
   "source": [
    " ### b) \n",
    " i. Research exact match and hamming score/ loss methods for evaluating multi-label classification and use them in evaluating the classifiers in this problem.\n",
    "\n",
    " Ans)   \n",
    " 1) Exact Match Ratio :  extends the concept of accuracy from the single-label classification problem to a multi-label classification problem.  \n",
    "\n",
    " 2) Hamming Loss: Hamming Loss computes the proportion of incorrectly predicted labels to the total number of labels.  \n",
    "\n",
    " 3) Hamming Score : 1- Hamming Loss\n",
    "\n",
    "\n",
    " reference : https://medium.datadriveninvestor.com/a-survey-of-evaluation-metrics-for-multilabel-classification-bb16e8cd41cd\n"
   ]
  },
  {
   "cell_type": "code",
   "execution_count": 50,
   "metadata": {},
   "outputs": [],
   "source": [
    "from sklearn.metrics import hamming_loss\n",
    "from sklearn.metrics import accuracy_score\n",
    "def hammingLoss(y_true, y_pred):\n",
    "    return hamming_loss(y_true, y_pred)\n",
    "\n",
    "def exactMatch(y_true,y_pred):\n",
    "    correct = 0\n",
    "    wrong = 0\n",
    "    for i in range(len(y_true)):\n",
    "        if y_true[i] == y_pred[i]:\n",
    "            correct+=1\n",
    "        else:\n",
    "            wrong+=1\n",
    "    return (correct/(correct+wrong))\n"
   ]
  },
  {
   "cell_type": "markdown",
   "metadata": {},
   "source": [
    "ii)  Train a SVM for each of the labels, using Gaussian kernels and one versus all classifiers. Determine the weight of the SVM penalty and the width of the Gaussian Kernel using 10 fold cross validation.1 You are welcome to try to solve the problem with both standardized 2 and raw attributes and report the results."
   ]
  },
  {
   "cell_type": "code",
   "execution_count": 17,
   "metadata": {},
   "outputs": [],
   "source": [
    "y_train_family, y_train_genus, y_train_species = y_train[\"Family\"], y_train[\"Genus\"], y_train[\"Species\"]\n",
    "\n",
    "y_test_family, y_test_genus, y_test_species = y_test[\"Family\"], y_test[\"Genus\"], y_test[\"Species\"]"
   ]
  },
  {
   "cell_type": "code",
   "execution_count": 47,
   "metadata": {},
   "outputs": [],
   "source": [
    "from sklearn import svm\n",
    "from sklearn.multiclass import OneVsRestClassifier\n",
    "from sklearn.model_selection import GridSearchCV\n",
    "from sklearn.model_selection import KFold\n",
    "\n",
    "svmGauss = svm.SVC(kernel='rbf')\n",
    "c_vals = np.arange(0.01, 100, 10)\n",
    "gamma_vals = np.arange(0.1, 2.1, 0.1)\n",
    "params = {'C':c_vals, 'gamma':gamma_vals}\n"
   ]
  },
  {
   "cell_type": "code",
   "execution_count": 51,
   "metadata": {},
   "outputs": [
    {
     "name": "stdout",
     "output_type": "stream",
     "text": [
      "Penalty (Family): 10.01\n",
      "Width of Gaussian (Family): 2.0\n",
      "Hamming Loss (Family) 0.006021306160259379\n",
      "Accuracy (Family) 0.9939786938397406\n"
     ]
    }
   ],
   "source": [
    "clf_family = GridSearchCV(svmGauss, params, cv = KFold(10), n_jobs=-1).fit(X_train, y_train_family)\n",
    "best_C =  clf_family.best_params_['C']\n",
    "best_Gamma =  clf_family.best_params_['gamma']\n",
    "\n",
    "print('Penalty (Family):', best_C)\n",
    "print('Width of Gaussian (Family):', best_Gamma)\n",
    "y_pred_family = clf_family.predict(X_test)\n",
    "ham_loss = hammingLoss(y_test_family, y_pred_family)\n",
    "acc = accuracy_score(y_test_family, y_pred_family)\n",
    "print(\"Hamming Loss (Family)\",ham_loss)\n",
    "print(\"Accuracy (Family)\", acc)"
   ]
  },
  {
   "cell_type": "code",
   "execution_count": 52,
   "metadata": {},
   "outputs": [
    {
     "name": "stdout",
     "output_type": "stream",
     "text": [
      "Penalty (Genus): 30.01\n",
      "Width of Gaussian Kernel (Genus): 1.5000000000000002\n",
      "Hamming Loss(Genus): 0.009263547938860583\n",
      "Accuracy (Genus) 0.9907364520611394\n"
     ]
    }
   ],
   "source": [
    "clf_genus = GridSearchCV(svmGauss, params, cv = KFold(10), n_jobs=-1).fit(X_train, y_train_genus)\n",
    "best_C =  clf_genus.best_params_['C']\n",
    "best_Gamma = clf_genus.best_params_['gamma']\n",
    "\n",
    "print('Penalty (Genus):',best_C)\n",
    "print('Width of Gaussian Kernel (Genus):', best_Gamma)\n",
    "y_pred_genus = clf_genus.predict(X_test)\n",
    "ham_loss = hammingLoss(y_test_genus, y_pred_genus)\n",
    "acc = accuracy_score(y_test_genus, y_pred_genus)\n",
    "print(\"Hamming Loss(Genus):\",ham_loss)\n",
    "print(\"Accuracy (Genus)\", acc)"
   ]
  },
  {
   "cell_type": "code",
   "execution_count": 54,
   "metadata": {},
   "outputs": [
    {
     "name": "stdout",
     "output_type": "stream",
     "text": [
      "Penalty (Species): 20.01\n",
      "Width of Gaussian Kernel (Species): 1.9000000000000001\n",
      "Hamming Loss (Species): 0.008800370541917554\n",
      "Accuracy (Species) 0.9911996294580825\n"
     ]
    }
   ],
   "source": [
    "clf_species = GridSearchCV(svmGauss, params, cv = KFold(10), n_jobs=-1).fit(X_train, y_train_species)\n",
    "best_C = clf_species.best_params_['C']\n",
    "best_Gamma = clf_species.best_params_['gamma']\n",
    "\n",
    "print('Penalty (Species):', best_C)\n",
    "print('Width of Gaussian Kernel (Species):', best_Gamma)\n",
    "y_pred_species = clf_species.predict(X_test)\n",
    "ham_loss = hammingLoss(y_test_species, y_pred_species)\n",
    "acc = accuracy_score(y_test_species, y_pred_species)\n",
    "print(\"Hamming Loss (Species):\",ham_loss)\n",
    "print(\"Accuracy (Species)\", acc)"
   ]
  },
  {
   "cell_type": "code",
   "execution_count": 22,
   "metadata": {},
   "outputs": [
    {
     "name": "stdout",
     "output_type": "stream",
     "text": [
      "Exact Match is: 0.9893469198703103\n"
     ]
    }
   ],
   "source": [
    "y_pred = pd.DataFrame({\"Family\":y_pred_family,\"Genus\": y_pred_genus,\"Species\": y_pred_species})\n",
    "print(\"Exact Match is:\", exactMatch(y_test.values.tolist(), y_pred.values.tolist()))"
   ]
  },
  {
   "cell_type": "markdown",
   "metadata": {},
   "source": [
    "iii) Repeat 1(b)ii with L1-penalized SVMs.3 Remember to standardize the attributes. Determine the weight of the SVM penalty using 10 fold cross validation"
   ]
  },
  {
   "cell_type": "code",
   "execution_count": 55,
   "metadata": {},
   "outputs": [],
   "source": [
    "from sklearn.preprocessing import StandardScaler\n",
    "from sklearn.svm import LinearSVC\n",
    "\n",
    "scaler = StandardScaler()\n",
    "stand_X_train = scaler.fit_transform(X_train)\n",
    "stand_X_test = scaler.transform(X_test)\n",
    "\n",
    "c_vals = np.arange(0.01, 100, 10)\n",
    "params = {'C':c_vals}\n",
    "\n",
    "svc_penalized = LinearSVC(penalty = 'l1', dual=False)"
   ]
  },
  {
   "cell_type": "code",
   "execution_count": 67,
   "metadata": {},
   "outputs": [
    {
     "name": "stdout",
     "output_type": "stream",
     "text": [
      "Penalty (Family): 20.01\n",
      "Hamming Loss (Family): 0.07179249652616952\n",
      "Accuracy (Family) 0.9282075034738305\n"
     ]
    }
   ],
   "source": [
    "clf_penalized_family = GridSearchCV(svc_penalized, params, cv = KFold(10), n_jobs=-1).fit(stand_X_train, y_train_family)\n",
    "best_C = clf_penalized_family.best_params_['C']\n",
    "\n",
    "print('Penalty (Family):', best_C)\n",
    "y_pred_family = clf_penalized_family.predict(stand_X_test)\n",
    "ham_loss = hammingLoss(y_test_family, y_pred_family)\n",
    "acc = accuracy_score(y_test_family, y_pred_family)\n",
    "print(\"Hamming Loss (Family):\",ham_loss)\n",
    "print(\"Accuracy (Family)\", acc)"
   ]
  },
  {
   "cell_type": "code",
   "execution_count": 68,
   "metadata": {},
   "outputs": [
    {
     "name": "stdout",
     "output_type": "stream",
     "text": [
      "Penalty (Genus): 20.01\n",
      "Hamming Loss (Genus): 0.058360352014821676\n",
      "Accuracy (Genus) 0.9416396479851783\n"
     ]
    }
   ],
   "source": [
    "clf_penalized_genus = GridSearchCV(svc_penalized, params, cv = KFold(10), n_jobs=-1).fit(stand_X_train, y_train_genus)\n",
    "best_C = clf_penalized_genus.best_params_['C']\n",
    "\n",
    "print('Penalty (Genus):', best_C)\n",
    "y_pred_genus = clf_penalized_genus.predict(stand_X_test)\n",
    "ham_loss = hammingLoss(y_test_genus, y_pred_genus)\n",
    "acc = accuracy_score(y_test_genus, y_pred_genus)\n",
    "print(\"Hamming Loss (Genus):\",ham_loss)\n",
    "print(\"Accuracy (Genus)\", acc)"
   ]
  },
  {
   "cell_type": "code",
   "execution_count": 69,
   "metadata": {},
   "outputs": [
    {
     "name": "stdout",
     "output_type": "stream",
     "text": [
      "Penalty (Species): 80.01\n",
      "Hamming Loss (Species): 0.04075961093098657\n",
      "Accuracy (Species) 0.9592403890690134\n"
     ]
    }
   ],
   "source": [
    "clf_penalized_species = GridSearchCV(svc_penalized, params, cv = KFold(10), n_jobs=-1).fit(stand_X_train, y_train_species)\n",
    "best_C = clf_penalized_species.best_params_['C']\n",
    "\n",
    "print('Penalty (Species):',best_C)\n",
    "y_pred_species = clf_penalized_species.predict(stand_X_test)\n",
    "ham_loss = hammingLoss(y_test_species, y_pred_species)\n",
    "acc = accuracy_score(y_test_species, y_pred_species)\n",
    "print(\"Hamming Loss (Species):\",ham_loss)\n",
    "print(\"Accuracy (Species)\", acc)\n"
   ]
  },
  {
   "cell_type": "code",
   "execution_count": 70,
   "metadata": {},
   "outputs": [
    {
     "name": "stdout",
     "output_type": "stream",
     "text": [
      "Exact Match is: 0.9124594719777674\n"
     ]
    }
   ],
   "source": [
    "y_pred = pd.DataFrame({\"Family\":y_pred_family,\"Genus\": y_pred_genus,\"Species\": y_pred_species})\n",
    "print(\"Exact Match is:\", exactMatch(y_test.values.tolist(), y_pred.values.tolist()))"
   ]
  },
  {
   "cell_type": "markdown",
   "metadata": {},
   "source": [
    "iv. Repeat 1(b)iii by using SMOTE or any other method you know to remedy class imbalance. Report your conclusions about the classifiers you trained"
   ]
  },
  {
   "cell_type": "code",
   "execution_count": 62,
   "metadata": {},
   "outputs": [],
   "source": [
    "from imblearn.over_sampling import SMOTE\n",
    "\n",
    "sm = SMOTE()\n",
    "\n",
    "res_X_train_family, res_y_train_family = sm.fit_resample(X_train, y_train_family)\n",
    "res_X_train_genus, res_y_train_genus = sm.fit_resample(X_train, y_train_genus)\n",
    "res_X_train_species, res_y_train_species = sm.fit_resample(X_train,y_train_species)\n",
    "\n",
    "c_vals = np.arange(0.01, 100, 10)\n",
    "params = {'C':c_vals}\n",
    "\n",
    "svc_penalized = LinearSVC(penalty = 'l1', dual=False)"
   ]
  },
  {
   "cell_type": "code",
   "execution_count": 63,
   "metadata": {},
   "outputs": [
    {
     "name": "stdout",
     "output_type": "stream",
     "text": [
      "Penalty (Family): 50.01\n",
      "Hamming Loss (Family): 0.09078276980083372\n",
      "Accuracy (Family) 0.9092172301991662\n"
     ]
    }
   ],
   "source": [
    "clf_penalized_family = GridSearchCV(svc_penalized, params, cv = KFold(10), n_jobs=-1).fit(res_X_train_family, res_y_train_family)\n",
    "best_C = clf_penalized_family.best_params_['C']\n",
    "\n",
    "print('Penalty (Family):',best_C)\n",
    "y_pred_family = clf_penalized_family.predict(X_test)\n",
    "ham_loss = hammingLoss(y_test_family, y_pred_family)\n",
    "acc = accuracy_score(y_test_family, y_pred_family)\n",
    "\n",
    "print(\"Hamming Loss (Family):\",ham_loss)\n",
    "print(\"Accuracy (Family)\", acc)"
   ]
  },
  {
   "cell_type": "code",
   "execution_count": 64,
   "metadata": {},
   "outputs": [
    {
     "name": "stdout",
     "output_type": "stream",
     "text": [
      "Penalty (Genus): 60.01\n",
      "Hamming Loss (Genus): 0.09448818897637795\n",
      "Accuracy (Genus) 0.905511811023622\n"
     ]
    }
   ],
   "source": [
    "clf_penalized_genus = GridSearchCV(svc_penalized, params, cv = KFold(10), n_jobs=-1).fit(res_X_train_genus, res_y_train_genus)\n",
    "best_C = clf_penalized_genus.best_params_['C']\n",
    "\n",
    "print('Penalty (Genus):', best_C)\n",
    "y_pred_genus = clf_penalized_genus.predict(X_test)\n",
    "ham_loss = hammingLoss(y_test_genus, y_pred_genus)\n",
    "acc = accuracy_score(y_test_genus, y_pred_genus)\n",
    "\n",
    "print(\"Hamming Loss (Genus):\",ham_loss)\n",
    "print(\"Accuracy (Genus)\", acc)"
   ]
  },
  {
   "cell_type": "code",
   "execution_count": 65,
   "metadata": {},
   "outputs": [
    {
     "name": "stdout",
     "output_type": "stream",
     "text": [
      "Penalty (Species): 70.01\n",
      "Hamming Loss (Species): 0.03983325613710051\n",
      "Accuracy (Species) 0.9601667438628995\n"
     ]
    }
   ],
   "source": [
    "clf_penalized_species = GridSearchCV(svc_penalized, params, cv = KFold(10), n_jobs=-1).fit(res_X_train_species, res_y_train_species)\n",
    "best_C = clf_penalized_species.best_params_['C']\n",
    "\n",
    "print('Penalty (Species):', best_C)\n",
    "y_pred_species = clf_penalized_species.predict(X_test)\n",
    "ham_loss = hammingLoss(y_test_species, y_pred_species)\n",
    "acc = accuracy_score(y_test_species, y_pred_species)\n",
    "print(\"Hamming Loss (Species):\",ham_loss)\n",
    "print(\"Accuracy (Species)\", acc)"
   ]
  },
  {
   "cell_type": "code",
   "execution_count": 66,
   "metadata": {},
   "outputs": [
    {
     "name": "stdout",
     "output_type": "stream",
     "text": [
      "Exact Match is: 0.8564150069476609\n"
     ]
    }
   ],
   "source": [
    "y_pred = pd.DataFrame({\"Family\":y_pred_family,\"Genus\": y_pred_genus,\"Species\": y_pred_species})\n",
    "print(\"Exact Match is:\", exactMatch(y_test.values.tolist(), y_pred.values.tolist()))"
   ]
  },
  {
   "cell_type": "code",
   "execution_count": 73,
   "metadata": {},
   "outputs": [
    {
     "data": {
      "text/html": [
       "<div>\n",
       "<style scoped>\n",
       "    .dataframe tbody tr th:only-of-type {\n",
       "        vertical-align: middle;\n",
       "    }\n",
       "\n",
       "    .dataframe tbody tr th {\n",
       "        vertical-align: top;\n",
       "    }\n",
       "\n",
       "    .dataframe thead th {\n",
       "        text-align: right;\n",
       "    }\n",
       "</style>\n",
       "<table border=\"1\" class=\"dataframe\">\n",
       "  <thead>\n",
       "    <tr style=\"text-align: right;\">\n",
       "      <th></th>\n",
       "      <th>Classifiers</th>\n",
       "      <th>Exact Match</th>\n",
       "      <th>Hamming Loss Family</th>\n",
       "      <th>Hamming Loss Genus</th>\n",
       "      <th>Hamming Loss Species</th>\n",
       "    </tr>\n",
       "  </thead>\n",
       "  <tbody>\n",
       "    <tr>\n",
       "      <th>0</th>\n",
       "      <td>SVC with Raw Data</td>\n",
       "      <td>0.989347</td>\n",
       "      <td>0.006021</td>\n",
       "      <td>0.009264</td>\n",
       "      <td>0.008800</td>\n",
       "    </tr>\n",
       "    <tr>\n",
       "      <th>1</th>\n",
       "      <td>L1 Penalized SVC</td>\n",
       "      <td>0.912459</td>\n",
       "      <td>0.071792</td>\n",
       "      <td>0.058360</td>\n",
       "      <td>0.040760</td>\n",
       "    </tr>\n",
       "    <tr>\n",
       "      <th>2</th>\n",
       "      <td>L1 Penalized SVC with SMOTE</td>\n",
       "      <td>0.856415</td>\n",
       "      <td>0.090783</td>\n",
       "      <td>0.094488</td>\n",
       "      <td>0.039833</td>\n",
       "    </tr>\n",
       "  </tbody>\n",
       "</table>\n",
       "</div>"
      ],
      "text/plain": [
       "                   Classifiers  Exact Match   Hamming Loss Family  \\\n",
       "0            SVC with Raw Data      0.989347             0.006021   \n",
       "1             L1 Penalized SVC      0.912459             0.071792   \n",
       "2  L1 Penalized SVC with SMOTE      0.856415             0.090783   \n",
       "\n",
       "   Hamming Loss Genus  Hamming Loss Species  \n",
       "0            0.009264              0.008800  \n",
       "1            0.058360              0.040760  \n",
       "2            0.094488              0.039833  "
      ]
     },
     "execution_count": 73,
     "metadata": {},
     "output_type": "execute_result"
    }
   ],
   "source": [
    "classifier_name = ['SVC with Raw Data', 'L1 Penalized SVC', 'L1 Penalized SVC with SMOTE']\n",
    "exact_match_score = [0.9893469198703103,0.9124594719777674, 0.8564150069476609]\n",
    "h_loss_family_score = [0.006021306160259379, 0.07179249652616952, 0.09078276980083372]\n",
    "h_loss_genus_score =  [0.009263547938860583, 0.058360352014821676, 0.09448818897637795]\n",
    "h_loss_species_score = [0.008800370541917554, 0.04075961093098657, 0.03983325613710051]\n",
    "\n",
    "result = {'Classifiers': classifier_name, \n",
    "          'Exact Match ': exact_match_score,\n",
    "          'Hamming Loss Family':h_loss_family_score ,\n",
    "          'Hamming Loss Genus':h_loss_genus_score,\n",
    "          'Hamming Loss Species': h_loss_species_score }\n",
    "result = pd.DataFrame(result)\n",
    "result"
   ]
  },
  {
   "cell_type": "markdown",
   "metadata": {},
   "source": [
    "## 2) K-Means Clustering on a Multi-Class and Multi-Label Data Set"
   ]
  },
  {
   "cell_type": "markdown",
   "metadata": {},
   "source": [
    "Monte-Carlo Simulation: Perform the following procedures 50 times, and report the average and standard deviation of the 50 Hamming Distances that you calculate.\n",
    "\n",
    "(a) Use k-means clustering on the whole Anuran Calls (MFCCs) Data Set (do not split the data into train and test, as we are not performing supervised learning in this exercise). Choose k ∈ {1, 2, . . . , 50} automatically based on one of the methods provided in the slides (CH or Gap Statistics or scree plots or Silhouettes) or any other method you know."
   ]
  },
  {
   "cell_type": "code",
   "execution_count": 74,
   "metadata": {},
   "outputs": [
    {
     "name": "stdout",
     "output_type": "stream",
     "text": [
      "The best K is: 4\n",
      "The best score is: 0.3787509343305295\n"
     ]
    }
   ],
   "source": [
    "# X, y\n",
    "from sklearn.cluster import KMeans\n",
    "from sklearn.metrics import silhouette_score\n",
    "best_K = 1\n",
    "best_score = 0\n",
    "\n",
    "cluster = np.arange(2,51)\n",
    "for k in cluster:\n",
    "    kmeans = KMeans(n_clusters=k).fit(X)\n",
    "    labels = kmeans.labels_\n",
    "    sil_score = silhouette_score(X, labels)\n",
    "    if sil_score > best_score:\n",
    "        best_K = k\n",
    "        best_score = sil_score\n",
    "\n",
    "print(\"The best K is:\",best_K)\n",
    "print(\"The best score is:\",best_score)\n"
   ]
  },
  {
   "cell_type": "markdown",
   "metadata": {},
   "source": [
    "(b) In each cluster, determine which family is the majority by reading the true labels. Repeat for genus and species."
   ]
  },
  {
   "cell_type": "code",
   "execution_count": 75,
   "metadata": {},
   "outputs": [],
   "source": [
    "kmeans = KMeans(n_clusters=4).fit(X)\n",
    "labels = pd.Series(kmeans.labels_)"
   ]
  },
  {
   "cell_type": "code",
   "execution_count": 76,
   "metadata": {},
   "outputs": [
    {
     "name": "stdout",
     "output_type": "stream",
     "text": [
      "Cluster Number 0 : has Dendrobatidae majority in Family\n",
      "Cluster Number 1 : has Leptodactylidae majority in Family\n",
      "Cluster Number 2 : has Hylidae majority in Family\n",
      "Cluster Number 3 : has Hylidae majority in Family\n"
     ]
    }
   ],
   "source": [
    "y_family = y[\"Family\"]\n",
    "\n",
    "cluster_idx = {}\n",
    "for i in range(4):\n",
    "    cluster_idx[i] = list(labels.index[labels==i])\n",
    "    family_majority = y_family[cluster_idx[i]].value_counts().sort_values().index[-1]\n",
    "    print('Cluster Number', i,': has',family_majority,'majority in Family')"
   ]
  },
  {
   "cell_type": "code",
   "execution_count": 77,
   "metadata": {},
   "outputs": [
    {
     "name": "stdout",
     "output_type": "stream",
     "text": [
      "Cluster Number 0 : has Ameerega majority in Genus\n",
      "Cluster Number 1 : has Adenomera majority in Genus\n",
      "Cluster Number 2 : has Hypsiboas majority in Genus\n",
      "Cluster Number 3 : has Hypsiboas majority in Genus\n"
     ]
    }
   ],
   "source": [
    "y_genus = y[\"Genus\"]\n",
    "\n",
    "cluster_idx = {}\n",
    "for i in range(4):\n",
    "    cluster_idx[i] = list(labels.index[labels==i])\n",
    "    genus_majority = y_genus[cluster_idx[i]].value_counts().sort_values().index[-1]\n",
    "    print('Cluster Number', i, ': has',genus_majority,'majority in Genus')\n"
   ]
  },
  {
   "cell_type": "code",
   "execution_count": 78,
   "metadata": {},
   "outputs": [
    {
     "name": "stdout",
     "output_type": "stream",
     "text": [
      "Cluster Number 0 : has Ameeregatrivittata majority in Species\n",
      "Cluster Number 1 : has AdenomeraHylaedactylus majority in Species\n",
      "Cluster Number 2 : has HypsiboasCinerascens majority in Species\n",
      "Cluster Number 3 : has HypsiboasCordobae majority in Species\n"
     ]
    }
   ],
   "source": [
    "y_species = y[\"Species\"]\n",
    "\n",
    "clusterIndex = {}\n",
    "for i in range(4):\n",
    "    cluster_idx[i] = list(labels.index[labels==i])\n",
    "    species_majority = y_species[cluster_idx[i]].value_counts().sort_values().index[-1]\n",
    "    \n",
    "    print('Cluster Number', i,': has', species_majority, 'majority in Species')"
   ]
  },
  {
   "cell_type": "markdown",
   "metadata": {},
   "source": [
    "c) Now for each cluster you have a majority label triplet (family, genus, species).\n",
    "Calculate the average Hamming distance, Hamming score, and Hamming loss5\n",
    "between the true labels and the labels assigned by clusters"
   ]
  },
  {
   "cell_type": "code",
   "execution_count": 79,
   "metadata": {},
   "outputs": [],
   "source": [
    "def hammingDistance(y_true, y_pred):\n",
    "    y_pred = y_pred.values.tolist()\n",
    "    y_true = y_true.values.tolist()\n",
    "    total = len(y_pred)*len(y_pred[0])\n",
    "    correct = 0\n",
    "    for i in range(len(y_pred)):\n",
    "        for j in range(len(y_pred[i])):\n",
    "            if y_pred[i][j] == y_true[i][j]:\n",
    "                correct += 1\n",
    "    return total - correct\n",
    "\n",
    "def hammingScore(y_true, y_pred):\n",
    "    y_pred = y_pred.values.tolist()\n",
    "    y_true = y_true.values.tolist()\n",
    "    total = len(y_pred)*len(y_pred[0])\n",
    "    correct = 0\n",
    "    for i in range(len(y_pred)):\n",
    "        for j in range(len(y_pred[i])):\n",
    "            if y_pred[i][j] == y_true[i][j]:\n",
    "                correct += 1\n",
    "    return correct/total"
   ]
  },
  {
   "cell_type": "code",
   "execution_count": 80,
   "metadata": {},
   "outputs": [],
   "source": [
    "def getScores(K):\n",
    "\n",
    "    kmeans = KMeans(n_clusters=K).fit(X)\n",
    "    labels = pd.Series(kmeans.labels_)\n",
    "\n",
    "    cluster_idx = {}\n",
    "    cluster_label = {}\n",
    "    for cluster_no in range(K):\n",
    "        cluster_idx[cluster_no] = list(labels.index[labels==cluster_no])\n",
    "        family_majority = y_family[cluster_idx[cluster_no]].value_counts().sort_values().index[-1]\n",
    "        genus_majority = y_genus[cluster_idx[cluster_no]].value_counts().sort_values().index[-1]\n",
    "        species_majority = y_species[cluster_idx[cluster_no]].value_counts().sort_values().index[-1]\n",
    "        cluster_label[cluster_no] = [family_majority, genus_majority, species_majority]\n",
    "\n",
    "    y_pred = pd.DataFrame(columns=y.columns, index=y.index)\n",
    "    for cluster in range(4):\n",
    "        for i in cluster_idx[cluster]:\n",
    "            y_pred.loc[i] = cluster_label[cluster]\n",
    "\n",
    "    ham_distance = hammingDistance(y, y_pred)\n",
    "    ham_score = hammingScore(y, y_pred)\n",
    "    ham_loss = 1-ham_score\n",
    "    return ham_distance, ham_score, ham_loss"
   ]
  },
  {
   "cell_type": "code",
   "execution_count": 81,
   "metadata": {},
   "outputs": [],
   "source": [
    "total_hamming_distances = []\n",
    "total_hamming_scores = []\n",
    "total_hamming_loss = []\n",
    "\n",
    "for i in range(50):\n",
    "    h_dist, h_score, h_loss = getScores(best_K)\n",
    "    total_hamming_distances.append(h_dist)\n",
    "    total_hamming_scores.append(h_score)\n",
    "    total_hamming_loss.append(h_loss)"
   ]
  },
  {
   "cell_type": "code",
   "execution_count": 82,
   "metadata": {},
   "outputs": [
    {
     "name": "stdout",
     "output_type": "stream",
     "text": [
      "Avg Hamming Distance 4854.66\n",
      "Std Hamming Distance 206.39870251530166 \n",
      "\n",
      "Avg Hamming Score 0.7750910354412788\n",
      "Std Hamming Score 0.009562135858943803 \n",
      "\n",
      "Avg Hamming Loss 0.22490896455872134\n",
      "Std Hamming Loss 0.009562135858943803\n"
     ]
    }
   ],
   "source": [
    "print(\"Avg Hamming Distance\",np.array(total_hamming_distances).mean())\n",
    "print(\"Std Hamming Distance\",np.array(total_hamming_distances).std(),\"\\n\")\n",
    "print(\"Avg Hamming Score\", np.array(total_hamming_scores).mean())\n",
    "print(\"Std Hamming Score\", np.array(total_hamming_scores).std(),\"\\n\")\n",
    "print(\"Avg Hamming Loss\", np.array(total_hamming_loss).mean())\n",
    "print(\"Std Hamming Loss\", np.array(total_hamming_loss).std())"
   ]
  },
  {
   "cell_type": "markdown",
   "metadata": {},
   "source": [
    "## 3) ISLR 12.6.2"
   ]
  },
  {
   "cell_type": "code",
   "execution_count": 43,
   "metadata": {},
   "outputs": [
    {
     "data": {
      "image/jpeg": "[encoded data removed]",
      "text/plain": [
       "<IPython.core.display.Image object>"
      ]
     },
     "execution_count": 43,
     "metadata": {},
     "output_type": "execute_result"
    }
   ],
   "source": [
    "from IPython.display import Image\n",
    "Image(filename='ISLR12.6.2.jpg')"
   ]
  },
  {
   "cell_type": "markdown",
   "metadata": {},
   "source": [
    "## References \n",
    "\n",
    "https://scikit-learn.org/stable/modules/generated/sklearn.model_selection.train_test_split.html\n",
    "https://scikit-learn.org/stable/modules/generated/sklearn.svm.LinearSVC.html  \n",
    "https://scikit-learn.org/stable/auto_examples/cluster/plot_kmeans_silhouette_analysis.html   \n",
    "https://stackoverflow.com/questions/30522724/take-multiple-lists-into-dataframe  \n",
    "https://realpython.com/k-means-clustering-python/  \n",
    "https://www.geeksforgeeks.org/how-to-add-one-row-in-an-existing-pandas-dataframe/  "
   ]
  }
 ],
 "metadata": {
  "kernelspec": {
   "display_name": "Python 3.10.4 ('dsci')",
   "language": "python",
   "name": "python3"
  },
  "language_info": {
   "codemirror_mode": {
    "name": "ipython",
    "version": 3
   },
   "file_extension": ".py",
   "mimetype": "text/x-python",
   "name": "python",
   "nbconvert_exporter": "python",
   "pygments_lexer": "ipython3",
   "version": "3.10.4"
  },
  "orig_nbformat": 4,
  "vscode": {
   "interpreter": {
    "hash": "d83c7a391eb9917a09f29c3d60424a678aab391dcdbb83c4ed7021bac42b106b"
   }
  }
 },
 "nbformat": 4,
 "nbformat_minor": 2
}
