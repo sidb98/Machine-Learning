{
 "cells": [
  {
   "cell_type": "code",
   "execution_count": 1,
   "metadata": {},
   "outputs": [],
   "source": [
    "import tensorflow as tf\n",
    "import numpy as np\n",
    "import os\n",
    "import random\n",
    "import math\n",
    "import shutil\n",
    "import matplotlib.pyplot as plt\n",
    "from sklearn.metrics import classification_report\n",
    "from tensorflow.keras.preprocessing.image import ImageDataGenerator\n",
    "from keras.applications.vgg16 import preprocess_input\n",
    "from tensorflow.keras.applications import EfficientNetB0\n",
    "from tensorflow.keras.applications.vgg16 import VGG16\n",
    "from keras.models import Sequential\n",
    "from keras.layers import Dropout, Dense, BatchNormalization, Flatten\n",
    "from keras.metrics import Precision, Recall\n",
    "from tensorflow.keras.callbacks import EarlyStopping, ModelCheckpoint\n"
   ]
  },
  {
   "cell_type": "code",
   "execution_count": 2,
   "metadata": {},
   "outputs": [
    {
     "name": "stdout",
     "output_type": "stream",
     "text": [
      "[PhysicalDevice(name='/physical_device:GPU:0', device_type='GPU')]\n"
     ]
    }
   ],
   "source": [
    "print(tf.config.list_physical_devices('GPU'))"
   ]
  },
  {
   "attachments": {},
   "cell_type": "markdown",
   "metadata": {},
   "source": [
    "## 1) b)"
   ]
  },
  {
   "cell_type": "code",
   "execution_count": 3,
   "metadata": {},
   "outputs": [
    {
     "name": "stdout",
     "output_type": "stream",
     "text": [
      "005.Crested_Auklet ---- 44 images\n",
      "Train Split: 31 Valid Split: 7 Test Split: 7\n",
      "013.Bobolink ---- 60 images\n",
      "Train Split: 42 Valid Split: 9 Test Split: 9\n",
      "015.Lazuli_Bunting ---- 58 images\n",
      "Train Split: 41 Valid Split: 9 Test Split: 9\n",
      "023.Brandt_Cormorant ---- 59 images\n",
      "Train Split: 42 Valid Split: 9 Test Split: 9\n",
      "040.Olive_sided_Flycatcher ---- 60 images\n",
      "Train Split: 42 Valid Split: 9 Test Split: 9\n",
      "041.Scissor_tailed_Flycatcher ---- 60 images\n",
      "Train Split: 42 Valid Split: 9 Test Split: 9\n",
      "067.Anna_Hummingbird ---- 60 images\n",
      "Train Split: 42 Valid Split: 9 Test Split: 9\n",
      "072.Pomarine_Jaeger ---- 60 images\n",
      "Train Split: 42 Valid Split: 9 Test Split: 9\n",
      "076.Dark_eyed_Junco ---- 60 images\n",
      "Train Split: 42 Valid Split: 9 Test Split: 9\n",
      "081.Pied_Kingfisher ---- 60 images\n",
      "Train Split: 42 Valid Split: 9 Test Split: 9\n",
      "082.Ringed_Kingfisher ---- 60 images\n",
      "Train Split: 42 Valid Split: 9 Test Split: 9\n",
      "086.Pacific_Loon ---- 60 images\n",
      "Train Split: 42 Valid Split: 9 Test Split: 9\n",
      "099.Ovenbird ---- 60 images\n",
      "Train Split: 42 Valid Split: 9 Test Split: 9\n",
      "104.American_Pipit ---- 60 images\n",
      "Train Split: 42 Valid Split: 9 Test Split: 9\n",
      "127.Savannah_Sparrow ---- 60 images\n",
      "Train Split: 42 Valid Split: 9 Test Split: 9\n",
      "135.Bank_Swallow ---- 59 images\n",
      "Train Split: 42 Valid Split: 9 Test Split: 9\n",
      "141.Artic_Tern ---- 58 images\n",
      "Train Split: 41 Valid Split: 9 Test Split: 9\n",
      "149.Brown_Thrasher ---- 59 images\n",
      "Train Split: 42 Valid Split: 9 Test Split: 9\n",
      "156.White_eyed_Vireo ---- 60 images\n",
      "Train Split: 42 Valid Split: 9 Test Split: 9\n",
      "168.Kentucky_Warbler ---- 59 images\n",
      "Train Split: 42 Valid Split: 9 Test Split: 9\n"
     ]
    }
   ],
   "source": [
    "\n",
    "# Set the paths to the dataset and the three splits\n",
    "dataset_path = \"Data/images\"\n",
    "train_path = \"main_db/training_data\"\n",
    "valid_path = \"main_db/validation_data\"\n",
    "test_path = \"main_db/testing_data\"\n",
    "\n",
    "# Set the split ratio for the train, valid and test datasets\n",
    "train_ratio = 0.7\n",
    "valid_ratio = 0.15\n",
    "test_ratio = 0.15\n",
    "\n",
    "# Get the list of all image files in the dataset\n",
    "\n",
    "for folder in os.listdir(dataset_path):\n",
    "  folder_path = os.path.join(dataset_path, folder)\n",
    "  if os.path.isdir(folder_path):\n",
    "    image_files = []\n",
    "    train_files = []\n",
    "    valid_files = []\n",
    "    test_files = []\n",
    "    files = os.listdir(folder_path)\n",
    "    image_files.extend([os.path.join(folder, file) for file in files])\n",
    "    \n",
    "    print(folder,\"----\",len(image_files),\"images\")\n",
    "\n",
    "    # Shuffle the list of image files\n",
    "    random.shuffle(image_files)\n",
    "\n",
    "    # Calculate the number of images in each split\n",
    "    num_train = math.ceil(len(image_files) * train_ratio)\n",
    "    num_valid = math.ceil(len(image_files) * valid_ratio)\n",
    "    num_test = math.ceil(len(image_files) * test_ratio)\n",
    "    print(\"Train Split:\",num_train, \"Valid Split:\",num_valid,\"Test Split:\",num_test)\n",
    "\n",
    "    # Split the list of image files into the three splits\n",
    "    train_files = image_files[:num_train]\n",
    "    valid_files = image_files[num_train:num_train+num_valid]\n",
    "    test_files = image_files[num_train+num_valid:]\n",
    "\n",
    "\n",
    "    # Copy the images in each split to their corresponding directories\n",
    "    train_path_folder = os.path.join(train_path, folder)\n",
    "    valid_path_folder = os.path.join(valid_path, folder)\n",
    "    test_path_folder = os.path.join(test_path, folder)\n",
    "\n",
    "    if not os.path.exists(train_path_folder):\n",
    "      os.makedirs(train_path_folder)\n",
    "    if not os.path.exists(valid_path_folder):\n",
    "      os.makedirs(valid_path_folder)\n",
    "    if not os.path.exists(test_path_folder):\n",
    "      os.makedirs(test_path_folder)\n",
    "\n",
    "\n",
    "    for file in train_files:\n",
    "      src = os.path.join(dataset_path, file)\n",
    "      dst = os.path.join(train_path, file)\n",
    "      shutil.copy(src, dst)\n",
    "      # print(\"train\", src,dst)\n",
    "\n",
    "    for file in valid_files:\n",
    "      src = os.path.join(dataset_path, file)\n",
    "      dst = os.path.join(valid_path, file)\n",
    "      shutil.copy(src, dst)\n",
    "      # print(\"valid\",src,dst)\n",
    "\n",
    "    for file in test_files:\n",
    "      src = os.path.join(dataset_path, file)\n",
    "      dst = os.path.join(test_path, file)\n",
    "      shutil.copy(src, dst)\n",
    "      # print(\"test\",src,dst)\n",
    "    "
   ]
  },
  {
   "cell_type": "code",
   "execution_count": 4,
   "metadata": {},
   "outputs": [
    {
     "name": "stdout",
     "output_type": "stream",
     "text": [
      "==========Train Data==========\n",
      "005.Crested_Auklet ---- 31 images\n",
      "013.Bobolink ---- 42 images\n",
      "015.Lazuli_Bunting ---- 41 images\n",
      "023.Brandt_Cormorant ---- 42 images\n",
      "040.Olive_sided_Flycatcher ---- 42 images\n",
      "041.Scissor_tailed_Flycatcher ---- 42 images\n",
      "067.Anna_Hummingbird ---- 42 images\n",
      "072.Pomarine_Jaeger ---- 42 images\n",
      "076.Dark_eyed_Junco ---- 42 images\n",
      "081.Pied_Kingfisher ---- 42 images\n",
      "082.Ringed_Kingfisher ---- 42 images\n",
      "086.Pacific_Loon ---- 42 images\n",
      "099.Ovenbird ---- 42 images\n",
      "104.American_Pipit ---- 42 images\n",
      "127.Savannah_Sparrow ---- 42 images\n",
      "135.Bank_Swallow ---- 42 images\n",
      "141.Artic_Tern ---- 41 images\n",
      "149.Brown_Thrasher ---- 42 images\n",
      "156.White_eyed_Vireo ---- 42 images\n",
      "168.Kentucky_Warbler ---- 42 images\n",
      "==========Validation Data==========\n",
      "005.Crested_Auklet ---- 7 images\n",
      "013.Bobolink ---- 9 images\n",
      "015.Lazuli_Bunting ---- 9 images\n",
      "023.Brandt_Cormorant ---- 9 images\n",
      "040.Olive_sided_Flycatcher ---- 9 images\n",
      "041.Scissor_tailed_Flycatcher ---- 9 images\n",
      "067.Anna_Hummingbird ---- 9 images\n",
      "072.Pomarine_Jaeger ---- 9 images\n",
      "076.Dark_eyed_Junco ---- 9 images\n",
      "081.Pied_Kingfisher ---- 9 images\n",
      "082.Ringed_Kingfisher ---- 9 images\n",
      "086.Pacific_Loon ---- 9 images\n",
      "099.Ovenbird ---- 9 images\n",
      "104.American_Pipit ---- 9 images\n",
      "127.Savannah_Sparrow ---- 9 images\n",
      "135.Bank_Swallow ---- 9 images\n",
      "141.Artic_Tern ---- 9 images\n",
      "149.Brown_Thrasher ---- 9 images\n",
      "156.White_eyed_Vireo ---- 9 images\n",
      "168.Kentucky_Warbler ---- 9 images\n",
      "==========Testing Data==========\n",
      "005.Crested_Auklet ---- 6 images\n",
      "013.Bobolink ---- 9 images\n",
      "015.Lazuli_Bunting ---- 8 images\n",
      "023.Brandt_Cormorant ---- 8 images\n",
      "040.Olive_sided_Flycatcher ---- 9 images\n",
      "041.Scissor_tailed_Flycatcher ---- 9 images\n",
      "067.Anna_Hummingbird ---- 9 images\n",
      "072.Pomarine_Jaeger ---- 9 images\n",
      "076.Dark_eyed_Junco ---- 9 images\n",
      "081.Pied_Kingfisher ---- 9 images\n",
      "082.Ringed_Kingfisher ---- 9 images\n",
      "086.Pacific_Loon ---- 9 images\n",
      "099.Ovenbird ---- 9 images\n",
      "104.American_Pipit ---- 9 images\n",
      "127.Savannah_Sparrow ---- 9 images\n",
      "135.Bank_Swallow ---- 8 images\n",
      "141.Artic_Tern ---- 8 images\n",
      "149.Brown_Thrasher ---- 8 images\n",
      "156.White_eyed_Vireo ---- 9 images\n",
      "168.Kentucky_Warbler ---- 8 images\n"
     ]
    }
   ],
   "source": [
    "print(\"==========Train Data==========\")\n",
    "dataset_path = \"main_db/training_data\"\n",
    "for folder in os.listdir(dataset_path):\n",
    "  folder_path = os.path.join(dataset_path, folder)\n",
    "  image_files = []\n",
    "  if os.path.isdir(folder_path):\n",
    "    files = os.listdir(folder_path)\n",
    "    image_files.extend([os.path.join(folder, file) for file in files])\n",
    "    \n",
    "    print(folder,\"----\",len(image_files),\"images\")\n",
    "\n",
    "print(\"==========Validation Data==========\")\n",
    "dataset_path = \"main_db/validation_data\"\n",
    "for folder in os.listdir(dataset_path):\n",
    "  folder_path = os.path.join(dataset_path, folder)\n",
    "  image_files = []\n",
    "  if os.path.isdir(folder_path):\n",
    "    files = os.listdir(folder_path)\n",
    "    image_files.extend([os.path.join(folder, file) for file in files])\n",
    "    \n",
    "    print(folder,\"----\",len(image_files),\"images\")\n",
    "\n",
    "\n",
    "print(\"==========Testing Data==========\")\n",
    "dataset_path = \"main_db/testing_data\"\n",
    "for folder in os.listdir(dataset_path):\n",
    "  folder_path = os.path.join(dataset_path, folder)\n",
    "  image_files = []\n",
    "  if os.path.isdir(folder_path):\n",
    "    files = os.listdir(folder_path)\n",
    "    image_files.extend([os.path.join(folder, file) for file in files])\n",
    "    \n",
    "    print(folder,\"----\",len(image_files),\"images\")\n"
   ]
  },
  {
   "attachments": {},
   "cell_type": "markdown",
   "metadata": {},
   "source": [
    "## VGG16"
   ]
  },
  {
   "attachments": {},
   "cell_type": "markdown",
   "metadata": {},
   "source": [
    "## 1 c) ii)"
   ]
  },
  {
   "cell_type": "code",
   "execution_count": 5,
   "metadata": {},
   "outputs": [
    {
     "name": "stdout",
     "output_type": "stream",
     "text": [
      "Found 827 images belonging to 20 classes.\n",
      "Found 178 images belonging to 20 classes.\n",
      "Found 171 images belonging to 20 classes.\n"
     ]
    }
   ],
   "source": [
    "# Reading Custom Dataset and Image Augmentation\n",
    "\n",
    "img_size = (256,256)\n",
    "\n",
    "train_datagen = ImageDataGenerator(zoom_range=0.2, \n",
    "                                   horizontal_flip=True, \n",
    "                                   vertical_flip=True, \n",
    "                                   rotation_range=10, \n",
    "                                   width_shift_range=0.3,\n",
    "                                   height_shift_range=0.3,\n",
    "                                   brightness_range = [0.2,0.4],\n",
    "                                   fill_mode=\"nearest\",\n",
    "                                   preprocessing_function=preprocess_input)\n",
    "\n",
    "train_generator = train_datagen.flow_from_directory('main_db/training_data',\n",
    "                                                    target_size=img_size,\n",
    "                                                    class_mode='categorical')\n",
    "\n",
    "\n",
    "valid_datagen = ImageDataGenerator(preprocessing_function=preprocess_input)\n",
    "\n",
    "valid_generator = valid_datagen.flow_from_directory('main_db/validation_data',\n",
    "                                                    target_size=img_size,\n",
    "                                                    class_mode='categorical',\n",
    "                                                    shuffle= True)\n",
    "\n",
    "\n",
    "test_datagen = ImageDataGenerator(preprocessing_function=preprocess_input)\n",
    "\n",
    "test_generator = test_datagen.flow_from_directory('main_db/testing_data',\n",
    "                                                    target_size=img_size,\n",
    "                                                    class_mode='categorical',\n",
    "                                                    shuffle=False)"
   ]
  },
  {
   "attachments": {},
   "cell_type": "markdown",
   "metadata": {},
   "source": [
    "## 1 c) iii)"
   ]
  },
  {
   "cell_type": "code",
   "execution_count": 6,
   "metadata": {},
   "outputs": [],
   "source": [
    "# from tensorflow.keras.layers import RandomCrop\n",
    "\n",
    "# Creating Model Architecture\n",
    "\n",
    "img_size = (256,256,3)\n",
    "base_model = VGG16(weights=\"imagenet\", include_top=False, input_shape=img_size)\n",
    "base_model.trainable = False \n",
    "\n",
    "vgg_model = Sequential()\n",
    "# vgg_model.add(RandomCrop(224,224))    give lower accuracy\n",
    "vgg_model.add(base_model)\n",
    "vgg_model.add(Flatten())\n",
    "vgg_model.add(Dropout(0.2))\n",
    "vgg_model.add(Dense(256, activation = 'relu'))     #256 best accuracy\n",
    "vgg_model.add(BatchNormalization())\n",
    "vgg_model.add(Dense(20, activation = 'softmax'))\n",
    "vgg_model.compile(loss='categorical_crossentropy',\n",
    "              optimizer='adam',\n",
    "              metrics=['accuracy'])\n"
   ]
  },
  {
   "cell_type": "code",
   "execution_count": 7,
   "metadata": {},
   "outputs": [
    {
     "name": "stdout",
     "output_type": "stream",
     "text": [
      "Model: \"sequential\"\n",
      "_________________________________________________________________\n",
      " Layer (type)                Output Shape              Param #   \n",
      "=================================================================\n",
      " vgg16 (Functional)          (None, 8, 8, 512)         14714688  \n",
      "                                                                 \n",
      " flatten (Flatten)           (None, 32768)             0         \n",
      "                                                                 \n",
      " dropout (Dropout)           (None, 32768)             0         \n",
      "                                                                 \n",
      " dense (Dense)               (None, 256)               8388864   \n",
      "                                                                 \n",
      " batch_normalization (BatchN  (None, 256)              1024      \n",
      " ormalization)                                                   \n",
      "                                                                 \n",
      " dense_1 (Dense)             (None, 20)                5140      \n",
      "                                                                 \n",
      "=================================================================\n",
      "Total params: 23,109,716\n",
      "Trainable params: 8,394,516\n",
      "Non-trainable params: 14,715,200\n",
      "_________________________________________________________________\n"
     ]
    }
   ],
   "source": [
    "vgg_model.summary()"
   ]
  },
  {
   "cell_type": "code",
   "execution_count": 8,
   "metadata": {},
   "outputs": [],
   "source": [
    "early_stopping = EarlyStopping(monitor='val_loss',\n",
    "                               min_delta=0.001,\n",
    "                               patience=10, \n",
    "                               verbose = 1)\n",
    "\n",
    "model_checkpoint = ModelCheckpoint(filepath='vgg_model.h5',\n",
    "                                   save_best_only=True,\n",
    "                                   monitor='val_loss')"
   ]
  },
  {
   "cell_type": "code",
   "execution_count": 9,
   "metadata": {},
   "outputs": [],
   "source": [
    "# Hyperparmeters\n",
    "\n",
    "N_EPOCHS = 100\n",
    "BATCH_SIZE = 5"
   ]
  },
  {
   "attachments": {},
   "cell_type": "markdown",
   "metadata": {},
   "source": [
    "## 1 c) iv)"
   ]
  },
  {
   "cell_type": "code",
   "execution_count": 10,
   "metadata": {},
   "outputs": [
    {
     "name": "stdout",
     "output_type": "stream",
     "text": [
      "Epoch 1/100\n",
      "26/26 [==============================] - 28s 818ms/step - loss: 3.0904 - accuracy: 0.2273 - val_loss: 5.5971 - val_accuracy: 0.4719\n",
      "Epoch 2/100\n",
      "26/26 [==============================] - 13s 482ms/step - loss: 1.8138 - accuracy: 0.4728 - val_loss: 3.1972 - val_accuracy: 0.5337\n",
      "Epoch 3/100\n",
      "26/26 [==============================] - 13s 501ms/step - loss: 1.3989 - accuracy: 0.5877 - val_loss: 1.8407 - val_accuracy: 0.6742\n",
      "Epoch 4/100\n",
      "26/26 [==============================] - 13s 500ms/step - loss: 1.1880 - accuracy: 0.6360 - val_loss: 1.4913 - val_accuracy: 0.7135\n",
      "Epoch 5/100\n",
      "26/26 [==============================] - 14s 535ms/step - loss: 1.0021 - accuracy: 0.6892 - val_loss: 1.6371 - val_accuracy: 0.7303\n",
      "Epoch 6/100\n",
      "26/26 [==============================] - 13s 506ms/step - loss: 0.9570 - accuracy: 0.6844 - val_loss: 1.4579 - val_accuracy: 0.7472\n",
      "Epoch 7/100\n",
      "26/26 [==============================] - 13s 504ms/step - loss: 0.8950 - accuracy: 0.7364 - val_loss: 1.2684 - val_accuracy: 0.7809\n",
      "Epoch 8/100\n",
      "26/26 [==============================] - 14s 525ms/step - loss: 0.8034 - accuracy: 0.7545 - val_loss: 1.2509 - val_accuracy: 0.7865\n",
      "Epoch 9/100\n",
      "26/26 [==============================] - 14s 530ms/step - loss: 0.7637 - accuracy: 0.7582 - val_loss: 1.2394 - val_accuracy: 0.7472\n",
      "Epoch 10/100\n",
      "26/26 [==============================] - 13s 510ms/step - loss: 0.7251 - accuracy: 0.7654 - val_loss: 1.0043 - val_accuracy: 0.7921\n",
      "Epoch 11/100\n",
      "26/26 [==============================] - 13s 494ms/step - loss: 0.6935 - accuracy: 0.7860 - val_loss: 0.8799 - val_accuracy: 0.7921\n",
      "Epoch 12/100\n",
      "26/26 [==============================] - 12s 472ms/step - loss: 0.6334 - accuracy: 0.7969 - val_loss: 0.7930 - val_accuracy: 0.8258\n",
      "Epoch 13/100\n",
      "26/26 [==============================] - 12s 459ms/step - loss: 0.6042 - accuracy: 0.8077 - val_loss: 0.8454 - val_accuracy: 0.8258\n",
      "Epoch 14/100\n",
      "26/26 [==============================] - 12s 465ms/step - loss: 0.6133 - accuracy: 0.8126 - val_loss: 0.9571 - val_accuracy: 0.8202\n",
      "Epoch 15/100\n",
      "26/26 [==============================] - 12s 463ms/step - loss: 0.5740 - accuracy: 0.8198 - val_loss: 1.1545 - val_accuracy: 0.8034\n",
      "Epoch 16/100\n",
      "26/26 [==============================] - 12s 467ms/step - loss: 0.6056 - accuracy: 0.8126 - val_loss: 1.1657 - val_accuracy: 0.7809\n",
      "Epoch 17/100\n",
      "26/26 [==============================] - 12s 468ms/step - loss: 0.5857 - accuracy: 0.8210 - val_loss: 1.0935 - val_accuracy: 0.7697\n",
      "Epoch 18/100\n",
      "26/26 [==============================] - 12s 450ms/step - loss: 0.5072 - accuracy: 0.8464 - val_loss: 1.1008 - val_accuracy: 0.7809\n",
      "Epoch 19/100\n",
      "26/26 [==============================] - 12s 477ms/step - loss: 0.4841 - accuracy: 0.8525 - val_loss: 0.9832 - val_accuracy: 0.8034\n",
      "Epoch 20/100\n",
      "26/26 [==============================] - 13s 487ms/step - loss: 0.4618 - accuracy: 0.8489 - val_loss: 1.0305 - val_accuracy: 0.7921\n",
      "Epoch 21/100\n",
      "26/26 [==============================] - 12s 472ms/step - loss: 0.4620 - accuracy: 0.8585 - val_loss: 0.9397 - val_accuracy: 0.7978\n",
      "Epoch 22/100\n",
      "26/26 [==============================] - 12s 458ms/step - loss: 0.4632 - accuracy: 0.8489 - val_loss: 1.0993 - val_accuracy: 0.7697\n",
      "Epoch 22: early stopping\n"
     ]
    }
   ],
   "source": [
    "vgg_history = vgg_model.fit(train_generator,\n",
    "                            batch_size=BATCH_SIZE,\n",
    "                            epochs=N_EPOCHS,\n",
    "                            validation_data=valid_generator,\n",
    "                            callbacks=[early_stopping, model_checkpoint],\n",
    "                            verbose = 1)"
   ]
  },
  {
   "cell_type": "code",
   "execution_count": 29,
   "metadata": {},
   "outputs": [
    {
     "data": {
      "image/png": "[encoded data removed]",
      "text/plain": [
       "<Figure size 640x480 with 1 Axes>"
      ]
     },
     "metadata": {},
     "output_type": "display_data"
    }
   ],
   "source": [
    "train_loss = vgg_history.history['loss']\n",
    "valid_loss = vgg_history.history['val_loss']\n",
    "\n",
    "\n",
    "# Plot the training and validation errors vs. epochs\n",
    "plt.plot(train_loss, label='Training loss')\n",
    "plt.plot(valid_loss, label='Validation loss')\n",
    "plt.xlabel('Epochs')\n",
    "plt.ylabel('Loss')\n",
    "plt.legend()\n",
    "plt.title(\"VGG16\")\n",
    "plt.show()"
   ]
  },
  {
   "cell_type": "code",
   "execution_count": 34,
   "metadata": {},
   "outputs": [
    {
     "data": {
      "image/png": "[encoded data removed]",
      "text/plain": [
       "<Figure size 640x480 with 1 Axes>"
      ]
     },
     "metadata": {},
     "output_type": "display_data"
    }
   ],
   "source": [
    "train_error = [1-acc for acc in vgg_history.history['accuracy']]\n",
    "valid_error = [1-val_acc for val_acc in vgg_history.history['val_accuracy']]\n",
    "\n",
    "\n",
    "# Plot the training and validation errors vs. epochs\n",
    "plt.plot(train_error, label='Training error')\n",
    "plt.plot(valid_error, label='Validation error')\n",
    "plt.xlabel('Epochs')\n",
    "plt.ylabel('Error')\n",
    "plt.legend()\n",
    "plt.title(\"VGG16\")\n",
    "plt.show()"
   ]
  },
  {
   "cell_type": "code",
   "execution_count": 12,
   "metadata": {},
   "outputs": [
    {
     "name": "stdout",
     "output_type": "stream",
     "text": [
      "6/6 [==============================] - 3s 498ms/step\n"
     ]
    }
   ],
   "source": [
    "# Loading weights from lowest validation error \n",
    "\n",
    "vgg_model.load_weights('vgg_model.h5') \n",
    "\n",
    "preds = vgg_model.predict(test_generator)"
   ]
  },
  {
   "cell_type": "code",
   "execution_count": 13,
   "metadata": {},
   "outputs": [],
   "source": [
    "# Predicting values of Test Data\n",
    "\n",
    "preds_class = preds.argmax(axis=-1)\n",
    "true_class = test_generator.classes\n",
    "\n",
    "# Convert Predicted Labels to Class Names\n",
    "\n",
    "# idx_to_cls = {v: k for k, v in train_generator.class_indices.items()}\n",
    "# preds_cls = np.vectorize(idx_to_cls.get)(preds_cls_idx)\n",
    "# filenames_to_cls = list(zip(test_generator.filenames, preds_cls))"
   ]
  },
  {
   "attachments": {},
   "cell_type": "markdown",
   "metadata": {},
   "source": [
    "## 1) c) v)"
   ]
  },
  {
   "cell_type": "code",
   "execution_count": 14,
   "metadata": {},
   "outputs": [
    {
     "name": "stdout",
     "output_type": "stream",
     "text": [
      "              precision    recall  f1-score   support\n",
      "\n",
      "           0       0.83      0.83      0.83         6\n",
      "           1       1.00      0.78      0.88         9\n",
      "           2       1.00      0.88      0.93         8\n",
      "           3       1.00      0.62      0.77         8\n",
      "           4       0.86      0.67      0.75         9\n",
      "           5       0.88      0.78      0.82         9\n",
      "           6       1.00      0.89      0.94         9\n",
      "           7       0.80      0.89      0.84         9\n",
      "           8       0.73      0.89      0.80         9\n",
      "           9       1.00      1.00      1.00         9\n",
      "          10       0.89      0.89      0.89         9\n",
      "          11       0.82      1.00      0.90         9\n",
      "          12       1.00      0.56      0.71         9\n",
      "          13       0.78      0.78      0.78         9\n",
      "          14       0.75      0.67      0.71         9\n",
      "          15       0.78      0.88      0.82         8\n",
      "          16       1.00      1.00      1.00         8\n",
      "          17       0.78      0.88      0.82         8\n",
      "          18       0.56      1.00      0.72         9\n",
      "          19       0.89      1.00      0.94         8\n",
      "\n",
      "    accuracy                           0.84       171\n",
      "   macro avg       0.87      0.84      0.84       171\n",
      "weighted avg       0.87      0.84      0.84       171\n",
      "\n"
     ]
    }
   ],
   "source": [
    "# Generating Precision, Recall, F1 and Accuracy score\n",
    "\n",
    "report = classification_report(true_class, preds_class)\n",
    "print(report)"
   ]
  },
  {
   "cell_type": "markdown",
   "metadata": {},
   "source": [
    "## EfficientNetB0"
   ]
  },
  {
   "attachments": {},
   "cell_type": "markdown",
   "metadata": {},
   "source": [
    "## 1 c) ii)"
   ]
  },
  {
   "cell_type": "code",
   "execution_count": 15,
   "metadata": {},
   "outputs": [
    {
     "name": "stdout",
     "output_type": "stream",
     "text": [
      "Found 827 images belonging to 20 classes.\n",
      "Found 178 images belonging to 20 classes.\n",
      "Found 171 images belonging to 20 classes.\n"
     ]
    }
   ],
   "source": [
    "# Reading Custom Dataset and Image Augmentation\n",
    "\n",
    "\n",
    "img_size = (256,256)\n",
    "\n",
    "train_datagen = ImageDataGenerator(zoom_range=0.2, \n",
    "                                   horizontal_flip=True, \n",
    "                                   vertical_flip=True, \n",
    "                                   rotation_range=10, \n",
    "                                   width_shift_range=0.3,\n",
    "                                   height_shift_range=0.3,\n",
    "                                   brightness_range = [0.2,0.4],\n",
    "                                   fill_mode=\"nearest\")\n",
    "\n",
    "train_generator = train_datagen.flow_from_directory('main_db/training_data',\n",
    "                                                    target_size=img_size,\n",
    "                                                    class_mode='categorical')\n",
    "\n",
    "\n",
    "valid_datagen = ImageDataGenerator()\n",
    "\n",
    "valid_generator = valid_datagen.flow_from_directory('main_db/validation_data',\n",
    "                                                    target_size=img_size,\n",
    "                                                    class_mode='categorical',\n",
    "                                                    shuffle=False)\n",
    "\n",
    "\n",
    "test_datagen = ImageDataGenerator()\n",
    "\n",
    "test_generator = test_datagen.flow_from_directory('main_db/testing_data',\n",
    "                                                    target_size=img_size,\n",
    "                                                    class_mode='categorical',\n",
    "                                                    shuffle=False)"
   ]
  },
  {
   "attachments": {},
   "cell_type": "markdown",
   "metadata": {},
   "source": [
    "## 1 c) iii)"
   ]
  },
  {
   "cell_type": "code",
   "execution_count": 16,
   "metadata": {},
   "outputs": [],
   "source": [
    "# Creating Model Architecture\n",
    "\n",
    "img_size = (256,256,3)\n",
    "base_model = EfficientNetB0(weights=\"imagenet\", include_top=False, input_shape=img_size)\n",
    "base_model.trainable = False \n",
    "\n",
    "effb0_model = Sequential()\n",
    "effb0_model.add(base_model)\n",
    "effb0_model.add(Flatten())\n",
    "effb0_model.add(Dropout(0.2))\n",
    "effb0_model.add(Dense(512, activation = 'relu'))     #246 best acc\n",
    "effb0_model.add(BatchNormalization())\n",
    "effb0_model.add(Dense(20, activation = 'softmax'))\n",
    "effb0_model.compile(loss='categorical_crossentropy',\n",
    "              optimizer='adam',\n",
    "              metrics=['accuracy'])"
   ]
  },
  {
   "cell_type": "code",
   "execution_count": 17,
   "metadata": {},
   "outputs": [
    {
     "name": "stdout",
     "output_type": "stream",
     "text": [
      "Model: \"sequential_1\"\n",
      "_________________________________________________________________\n",
      " Layer (type)                Output Shape              Param #   \n",
      "=================================================================\n",
      " efficientnetb0 (Functional)  (None, 8, 8, 1280)       4049571   \n",
      "                                                                 \n",
      " flatten_1 (Flatten)         (None, 81920)             0         \n",
      "                                                                 \n",
      " dropout_1 (Dropout)         (None, 81920)             0         \n",
      "                                                                 \n",
      " dense_2 (Dense)             (None, 512)               41943552  \n",
      "                                                                 \n",
      " batch_normalization_1 (Batc  (None, 512)              2048      \n",
      " hNormalization)                                                 \n",
      "                                                                 \n",
      " dense_3 (Dense)             (None, 20)                10260     \n",
      "                                                                 \n",
      "=================================================================\n",
      "Total params: 46,005,431\n",
      "Trainable params: 41,954,836\n",
      "Non-trainable params: 4,050,595\n",
      "_________________________________________________________________\n"
     ]
    }
   ],
   "source": [
    "effb0_model.summary()"
   ]
  },
  {
   "cell_type": "code",
   "execution_count": 18,
   "metadata": {},
   "outputs": [],
   "source": [
    "model_checkpoint = ModelCheckpoint(filepath='effb0_model.h5',\n",
    "                                   save_best_only=True,\n",
    "                                   monitor='val_loss')"
   ]
  },
  {
   "attachments": {},
   "cell_type": "markdown",
   "metadata": {},
   "source": [
    "## 1 c) iv)"
   ]
  },
  {
   "cell_type": "code",
   "execution_count": 19,
   "metadata": {},
   "outputs": [
    {
     "name": "stdout",
     "output_type": "stream",
     "text": [
      "Epoch 1/100\n",
      "26/26 [==============================] - 20s 579ms/step - loss: 3.6839 - accuracy: 0.2479 - val_loss: 3.6995 - val_accuracy: 0.4045\n",
      "Epoch 2/100\n",
      "26/26 [==============================] - 13s 484ms/step - loss: 1.7893 - accuracy: 0.4752 - val_loss: 1.1023 - val_accuracy: 0.7416\n",
      "Epoch 3/100\n",
      "26/26 [==============================] - 12s 477ms/step - loss: 1.3563 - accuracy: 0.6034 - val_loss: 0.8503 - val_accuracy: 0.7921\n",
      "Epoch 4/100\n",
      "26/26 [==============================] - 11s 438ms/step - loss: 1.2168 - accuracy: 0.6409 - val_loss: 0.7998 - val_accuracy: 0.7753\n",
      "Epoch 5/100\n",
      "26/26 [==============================] - 11s 431ms/step - loss: 0.9167 - accuracy: 0.6880 - val_loss: 0.6044 - val_accuracy: 0.8371\n",
      "Epoch 6/100\n",
      "26/26 [==============================] - 10s 400ms/step - loss: 0.8817 - accuracy: 0.7352 - val_loss: 0.6464 - val_accuracy: 0.8034\n",
      "Epoch 7/100\n",
      "26/26 [==============================] - 14s 524ms/step - loss: 0.8638 - accuracy: 0.7316 - val_loss: 0.5506 - val_accuracy: 0.8483\n",
      "Epoch 8/100\n",
      "26/26 [==============================] - 24s 906ms/step - loss: 0.7270 - accuracy: 0.7533 - val_loss: 0.5378 - val_accuracy: 0.8202\n",
      "Epoch 9/100\n",
      "26/26 [==============================] - 23s 865ms/step - loss: 0.6228 - accuracy: 0.8077 - val_loss: 0.5538 - val_accuracy: 0.8371\n",
      "Epoch 10/100\n",
      "26/26 [==============================] - 22s 829ms/step - loss: 0.6894 - accuracy: 0.7775 - val_loss: 0.5607 - val_accuracy: 0.7753\n",
      "Epoch 11/100\n",
      "26/26 [==============================] - 22s 852ms/step - loss: 0.5992 - accuracy: 0.8017 - val_loss: 0.5948 - val_accuracy: 0.8034\n",
      "Epoch 12/100\n",
      "26/26 [==============================] - 22s 837ms/step - loss: 0.5523 - accuracy: 0.8356 - val_loss: 0.7864 - val_accuracy: 0.7978\n",
      "Epoch 13/100\n",
      "26/26 [==============================] - 20s 776ms/step - loss: 0.6252 - accuracy: 0.8077 - val_loss: 0.5749 - val_accuracy: 0.8539\n",
      "Epoch 14/100\n",
      "26/26 [==============================] - 11s 430ms/step - loss: 0.5780 - accuracy: 0.8222 - val_loss: 0.5448 - val_accuracy: 0.8371\n",
      "Epoch 15/100\n",
      "26/26 [==============================] - 15s 597ms/step - loss: 0.5242 - accuracy: 0.8235 - val_loss: 0.4981 - val_accuracy: 0.8539\n",
      "Epoch 16/100\n",
      "26/26 [==============================] - 18s 683ms/step - loss: 0.5275 - accuracy: 0.8452 - val_loss: 0.4797 - val_accuracy: 0.8708\n",
      "Epoch 17/100\n",
      "26/26 [==============================] - 18s 692ms/step - loss: 0.4594 - accuracy: 0.8585 - val_loss: 0.4823 - val_accuracy: 0.8539\n",
      "Epoch 18/100\n",
      "26/26 [==============================] - 17s 635ms/step - loss: 0.3804 - accuracy: 0.8755 - val_loss: 0.5863 - val_accuracy: 0.8146\n",
      "Epoch 19/100\n",
      "26/26 [==============================] - 11s 428ms/step - loss: 0.4278 - accuracy: 0.8851 - val_loss: 0.5825 - val_accuracy: 0.8202\n",
      "Epoch 20/100\n",
      "26/26 [==============================] - 21s 815ms/step - loss: 0.4099 - accuracy: 0.8694 - val_loss: 0.5195 - val_accuracy: 0.8258\n",
      "Epoch 21/100\n",
      "26/26 [==============================] - 23s 892ms/step - loss: 0.4226 - accuracy: 0.8622 - val_loss: 0.4790 - val_accuracy: 0.8652\n",
      "Epoch 22/100\n",
      "26/26 [==============================] - 24s 901ms/step - loss: 0.4369 - accuracy: 0.8489 - val_loss: 0.4487 - val_accuracy: 0.8427\n",
      "Epoch 23/100\n",
      "26/26 [==============================] - 15s 576ms/step - loss: 0.4127 - accuracy: 0.8755 - val_loss: 0.4682 - val_accuracy: 0.8652\n",
      "Epoch 24/100\n",
      "26/26 [==============================] - 12s 466ms/step - loss: 0.3994 - accuracy: 0.8706 - val_loss: 0.4448 - val_accuracy: 0.8708\n",
      "Epoch 25/100\n",
      "26/26 [==============================] - 11s 406ms/step - loss: 0.4038 - accuracy: 0.8718 - val_loss: 0.5419 - val_accuracy: 0.8371\n",
      "Epoch 26/100\n",
      "26/26 [==============================] - 10s 396ms/step - loss: 0.3232 - accuracy: 0.8863 - val_loss: 0.4724 - val_accuracy: 0.8539\n",
      "Epoch 27/100\n",
      "26/26 [==============================] - 10s 398ms/step - loss: 0.4087 - accuracy: 0.8634 - val_loss: 0.4626 - val_accuracy: 0.8371\n",
      "Epoch 28/100\n",
      "26/26 [==============================] - 10s 399ms/step - loss: 0.3913 - accuracy: 0.8585 - val_loss: 0.5835 - val_accuracy: 0.8371\n",
      "Epoch 29/100\n",
      "26/26 [==============================] - 11s 426ms/step - loss: 0.3752 - accuracy: 0.8791 - val_loss: 0.4446 - val_accuracy: 0.8483\n",
      "Epoch 30/100\n",
      "26/26 [==============================] - 11s 429ms/step - loss: 0.3608 - accuracy: 0.8839 - val_loss: 0.4358 - val_accuracy: 0.8539\n",
      "Epoch 31/100\n",
      "26/26 [==============================] - 10s 398ms/step - loss: 0.3704 - accuracy: 0.8851 - val_loss: 0.5003 - val_accuracy: 0.8371\n",
      "Epoch 32/100\n",
      "26/26 [==============================] - 10s 396ms/step - loss: 0.3497 - accuracy: 0.8755 - val_loss: 0.5122 - val_accuracy: 0.8315\n",
      "Epoch 33/100\n",
      "26/26 [==============================] - 10s 392ms/step - loss: 0.2935 - accuracy: 0.9081 - val_loss: 0.4715 - val_accuracy: 0.8596\n",
      "Epoch 34/100\n",
      "26/26 [==============================] - 11s 422ms/step - loss: 0.2941 - accuracy: 0.9057 - val_loss: 0.3637 - val_accuracy: 0.8876\n",
      "Epoch 35/100\n",
      "26/26 [==============================] - 10s 393ms/step - loss: 0.2575 - accuracy: 0.9154 - val_loss: 0.3995 - val_accuracy: 0.8708\n",
      "Epoch 36/100\n",
      "26/26 [==============================] - 11s 421ms/step - loss: 0.3104 - accuracy: 0.9021 - val_loss: 0.4235 - val_accuracy: 0.8764\n",
      "Epoch 37/100\n",
      "26/26 [==============================] - 11s 406ms/step - loss: 0.2525 - accuracy: 0.9190 - val_loss: 0.4353 - val_accuracy: 0.8652\n",
      "Epoch 38/100\n",
      "26/26 [==============================] - 11s 417ms/step - loss: 0.2899 - accuracy: 0.9057 - val_loss: 0.4153 - val_accuracy: 0.8820\n",
      "Epoch 39/100\n",
      "26/26 [==============================] - 11s 406ms/step - loss: 0.2813 - accuracy: 0.9141 - val_loss: 0.3882 - val_accuracy: 0.8708\n",
      "Epoch 40/100\n",
      "26/26 [==============================] - 11s 413ms/step - loss: 0.2672 - accuracy: 0.9154 - val_loss: 0.4164 - val_accuracy: 0.8652\n",
      "Epoch 41/100\n",
      "26/26 [==============================] - 11s 408ms/step - loss: 0.2499 - accuracy: 0.9287 - val_loss: 0.3930 - val_accuracy: 0.8652\n",
      "Epoch 42/100\n",
      "26/26 [==============================] - 10s 401ms/step - loss: 0.2831 - accuracy: 0.9105 - val_loss: 0.5479 - val_accuracy: 0.8483\n",
      "Epoch 43/100\n",
      "26/26 [==============================] - 11s 411ms/step - loss: 0.2137 - accuracy: 0.9299 - val_loss: 0.4427 - val_accuracy: 0.8596\n",
      "Epoch 44/100\n",
      "26/26 [==============================] - 11s 437ms/step - loss: 0.2258 - accuracy: 0.9335 - val_loss: 0.4532 - val_accuracy: 0.8596\n",
      "Epoch 44: early stopping\n"
     ]
    }
   ],
   "source": [
    "effb0_history = effb0_model.fit(train_generator,\n",
    "                            batch_size=BATCH_SIZE,\n",
    "                            epochs=N_EPOCHS,\n",
    "                            validation_data=valid_generator,\n",
    "                            callbacks=[early_stopping, model_checkpoint],\n",
    "                            verbose = 1)"
   ]
  },
  {
   "cell_type": "code",
   "execution_count": 37,
   "metadata": {},
   "outputs": [
    {
     "data": {
      "image/png": "[encoded data removed]",
      "text/plain": [
       "<Figure size 640x480 with 1 Axes>"
      ]
     },
     "metadata": {},
     "output_type": "display_data"
    }
   ],
   "source": [
    "train_loss = effb0_history.history['loss']\n",
    "valid_loss = effb0_history.history['val_loss']\n",
    "\n",
    "# Plot the training and validation errors vs. epochs\n",
    "plt.plot(train_loss, label='Training loss')\n",
    "plt.plot(valid_loss, label='Validation loss')\n",
    "plt.xlabel('Epochs')\n",
    "plt.ylabel('Loss')\n",
    "plt.legend()\n",
    "plt.title(\"EfficientNetB0\")\n",
    "plt.show()"
   ]
  },
  {
   "cell_type": "code",
   "execution_count": 35,
   "metadata": {},
   "outputs": [
    {
     "data": {
      "image/png": "[encoded data removed]",
      "text/plain": [
       "<Figure size 640x480 with 1 Axes>"
      ]
     },
     "metadata": {},
     "output_type": "display_data"
    }
   ],
   "source": [
    "train_errors = [1-acc for acc in effb0_history.history['accuracy']]\n",
    "valid_errors = [1-val_acc for val_acc in effb0_history.history['val_accuracy']]\n",
    "\n",
    "# Plot the training and validation errors vs. epochs\n",
    "plt.plot(train_errors, label='Training error')\n",
    "plt.plot(valid_errors, label='Validation error')\n",
    "plt.xlabel('Epochs')\n",
    "plt.ylabel('Error')\n",
    "plt.legend()\n",
    "plt.title(\"EfficientNetB0\")\n",
    "plt.show()"
   ]
  },
  {
   "cell_type": "code",
   "execution_count": 21,
   "metadata": {},
   "outputs": [
    {
     "name": "stdout",
     "output_type": "stream",
     "text": [
      "6/6 [==============================] - 2s 224ms/step\n"
     ]
    }
   ],
   "source": [
    "# Loading weights from lowest validation error \n",
    "\n",
    "\n",
    "effb0_model.load_weights('effb0_model.h5') \n",
    "\n",
    "preds = effb0_model.predict(test_generator)"
   ]
  },
  {
   "cell_type": "code",
   "execution_count": 22,
   "metadata": {},
   "outputs": [],
   "source": [
    "# Predicting values of Test Data\n",
    "\n",
    "preds_class = preds.argmax(axis=-1)\n",
    "true_class = test_generator.classes"
   ]
  },
  {
   "attachments": {},
   "cell_type": "markdown",
   "metadata": {},
   "source": [
    "## 1) c) v)"
   ]
  },
  {
   "cell_type": "code",
   "execution_count": 23,
   "metadata": {},
   "outputs": [
    {
     "name": "stdout",
     "output_type": "stream",
     "text": [
      "              precision    recall  f1-score   support\n",
      "\n",
      "           0       1.00      0.83      0.91         6\n",
      "           1       0.89      0.89      0.89         9\n",
      "           2       1.00      1.00      1.00         8\n",
      "           3       1.00      0.62      0.77         8\n",
      "           4       0.83      0.56      0.67         9\n",
      "           5       1.00      0.89      0.94         9\n",
      "           6       0.90      1.00      0.95         9\n",
      "           7       0.75      1.00      0.86         9\n",
      "           8       0.82      1.00      0.90         9\n",
      "           9       1.00      1.00      1.00         9\n",
      "          10       1.00      1.00      1.00         9\n",
      "          11       0.90      1.00      0.95         9\n",
      "          12       0.88      0.78      0.82         9\n",
      "          13       0.89      0.89      0.89         9\n",
      "          14       0.90      1.00      0.95         9\n",
      "          15       0.62      0.62      0.62         8\n",
      "          16       1.00      1.00      1.00         8\n",
      "          17       1.00      0.88      0.93         8\n",
      "          18       0.82      1.00      0.90         9\n",
      "          19       1.00      1.00      1.00         8\n",
      "\n",
      "    accuracy                           0.90       171\n",
      "   macro avg       0.91      0.90      0.90       171\n",
      "weighted avg       0.91      0.90      0.90       171\n",
      "\n"
     ]
    }
   ],
   "source": [
    "# Generating Precision, Recall, F1 and Accuracy score\n",
    "\n",
    "report = classification_report(true_class, preds_class)\n",
    "print(report)"
   ]
  },
  {
   "attachments": {},
   "cell_type": "markdown",
   "metadata": {},
   "source": [
    "## Refrences\n",
    "\n",
    "https://www.tensorflow.org/install/pip  \n",
    "https://stackoverflow.com/questions/57394135/split-image-dataset-into-train-test-datasets  \n",
    "https://www.geeksforgeeks.org/multiclass-image-classification-using-transfer-learning/  \n",
    "https://machinelearningmastery.com/how-to-load-large-datasets-from-directories-for-deep-learning-with-keras/  \n",
    "https://stackoverflow.com/questions/56913840/how-do-i-fetch-the-names-of-the-classes-scanned-by-flow-from-directory-function  \n",
    "https://gist.github.com/rstml/bbd491287efc24133b90d4f7f3663905 \n",
    "https://keras.io/api/callbacks/early_stopping/  \n",
    "https://www.learndatasci.com/tutorials/hands-on-transfer-learning-keras/  \n",
    "https://datascience.stackexchange.com/questions/73576/how-to-correctly-output-precision-recall-and-f1score-in-keras  \n",
    "https://datascience.stackexchange.com/questions/45165/how-to-get-accuracy-f1-precision-and-recall-for-a-keras-model  \n",
    "https://scikit-learn.org/stable/modules/generated/sklearn.metrics.classification_report.html  "
   ]
  }
 ],
 "metadata": {
  "kernelspec": {
   "display_name": "Python 3.10.4 ('dsci')",
   "language": "python",
   "name": "python3"
  },
  "language_info": {
   "codemirror_mode": {
    "name": "ipython",
    "version": 3
   },
   "file_extension": ".py",
   "mimetype": "text/x-python",
   "name": "python",
   "nbconvert_exporter": "python",
   "pygments_lexer": "ipython3",
   "version": "3.10.4"
  },
  "orig_nbformat": 4,
  "vscode": {
   "interpreter": {
    "hash": "d83c7a391eb9917a09f29c3d60424a678aab391dcdbb83c4ed7021bac42b106b"
   }
  }
 },
 "nbformat": 4,
 "nbformat_minor": 2
}
